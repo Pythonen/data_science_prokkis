{
 "cells": [
  {
   "cell_type": "code",
   "execution_count": 1,
   "metadata": {},
   "outputs": [],
   "source": [
    "import pandas as pd\n",
    "import numpy as np\n",
    "import matplotlib.pyplot as plt"
   ]
  },
  {
   "cell_type": "code",
   "execution_count": 2,
   "metadata": {},
   "outputs": [],
   "source": [
    "df = pd.read_csv('etuovi_asunnot.csv')"
   ]
  },
  {
   "cell_type": "markdown",
   "metadata": {},
   "source": [
    "### Dropping rows with '-1' in them. (They didn't have any info)"
   ]
  },
  {
   "cell_type": "code",
   "execution_count": 3,
   "metadata": {},
   "outputs": [],
   "source": [
    "df=df[df['Hinta'] != '-1']"
   ]
  },
  {
   "cell_type": "markdown",
   "metadata": {},
   "source": [
    "### Getting part of the city. Street address is not that relevant"
   ]
  },
  {
   "cell_type": "code",
   "execution_count": 4,
   "metadata": {},
   "outputs": [],
   "source": [
    "df['Asunnon tyyppi'] = df['Asunnon tyyppi'].apply(lambda x: x.split(\" \")[0])"
   ]
  },
  {
   "cell_type": "code",
   "execution_count": 5,
   "metadata": {},
   "outputs": [],
   "source": [
    "df.rename(columns={'Sijanti': 'Sijainti'},inplace=True)"
   ]
  },
  {
   "cell_type": "code",
   "execution_count": 6,
   "metadata": {},
   "outputs": [],
   "source": [
    "df['Sijainti'] = df['Sijainti'].apply(lambda x: x.split(\",\")[1])"
   ]
  },
  {
   "cell_type": "code",
   "execution_count": 7,
   "metadata": {},
   "outputs": [
    {
     "data": {
      "text/html": [
       "<div>\n",
       "<style scoped>\n",
       "    .dataframe tbody tr th:only-of-type {\n",
       "        vertical-align: middle;\n",
       "    }\n",
       "\n",
       "    .dataframe tbody tr th {\n",
       "        vertical-align: top;\n",
       "    }\n",
       "\n",
       "    .dataframe thead th {\n",
       "        text-align: right;\n",
       "    }\n",
       "</style>\n",
       "<table border=\"1\" class=\"dataframe\">\n",
       "  <thead>\n",
       "    <tr style=\"text-align: right;\">\n",
       "      <th></th>\n",
       "      <th>Asunnon tyyppi</th>\n",
       "      <th>Sijainti</th>\n",
       "      <th>Hinta</th>\n",
       "      <th>Koko</th>\n",
       "      <th>Rakennus vuosi</th>\n",
       "    </tr>\n",
       "  </thead>\n",
       "  <tbody>\n",
       "    <tr>\n",
       "      <th>0</th>\n",
       "      <td>Paritalo</td>\n",
       "      <td>Palokka</td>\n",
       "      <td>307 000 €</td>\n",
       "      <td>102 m²</td>\n",
       "      <td>2016</td>\n",
       "    </tr>\n",
       "    <tr>\n",
       "      <th>1</th>\n",
       "      <td>Kerrostalo</td>\n",
       "      <td>Vaajakoski</td>\n",
       "      <td>76 000 €</td>\n",
       "      <td>54 m²</td>\n",
       "      <td>1965</td>\n",
       "    </tr>\n",
       "    <tr>\n",
       "      <th>2</th>\n",
       "      <td>Rivitalo</td>\n",
       "      <td>Palokka</td>\n",
       "      <td>127 000 €</td>\n",
       "      <td>64 m²</td>\n",
       "      <td>1980</td>\n",
       "    </tr>\n",
       "    <tr>\n",
       "      <th>3</th>\n",
       "      <td>Kerrostalo</td>\n",
       "      <td>Lutakko</td>\n",
       "      <td>209 000 €</td>\n",
       "      <td>44 m²</td>\n",
       "      <td>2008</td>\n",
       "    </tr>\n",
       "    <tr>\n",
       "      <th>4</th>\n",
       "      <td>Kerrostalo</td>\n",
       "      <td>Keskusta</td>\n",
       "      <td>89 000 €</td>\n",
       "      <td>35 m²</td>\n",
       "      <td>1955</td>\n",
       "    </tr>\n",
       "    <tr>\n",
       "      <th>...</th>\n",
       "      <td>...</td>\n",
       "      <td>...</td>\n",
       "      <td>...</td>\n",
       "      <td>...</td>\n",
       "      <td>...</td>\n",
       "    </tr>\n",
       "    <tr>\n",
       "      <th>1911</th>\n",
       "      <td>Kerrostalo</td>\n",
       "      <td>Pirttimäki</td>\n",
       "      <td>83 000 €</td>\n",
       "      <td>21,5 m²</td>\n",
       "      <td>2018</td>\n",
       "    </tr>\n",
       "    <tr>\n",
       "      <th>1912</th>\n",
       "      <td>Kerrostalo</td>\n",
       "      <td>Kivelänranta</td>\n",
       "      <td>167 475 €</td>\n",
       "      <td>43,5 m²</td>\n",
       "      <td>2019</td>\n",
       "    </tr>\n",
       "    <tr>\n",
       "      <th>1914</th>\n",
       "      <td>Kerrostalo</td>\n",
       "      <td>Keskusta</td>\n",
       "      <td>193 000 €</td>\n",
       "      <td>72 m²</td>\n",
       "      <td>1960</td>\n",
       "    </tr>\n",
       "    <tr>\n",
       "      <th>1916</th>\n",
       "      <td>Kerrostalo</td>\n",
       "      <td>Varikko</td>\n",
       "      <td>79 000 €</td>\n",
       "      <td>91,5 m²</td>\n",
       "      <td>1984</td>\n",
       "    </tr>\n",
       "    <tr>\n",
       "      <th>1917</th>\n",
       "      <td>Rivitalo</td>\n",
       "      <td>Korpilahti</td>\n",
       "      <td>49 000 €</td>\n",
       "      <td>33 m²</td>\n",
       "      <td>1983</td>\n",
       "    </tr>\n",
       "  </tbody>\n",
       "</table>\n",
       "<p>1185 rows × 5 columns</p>\n",
       "</div>"
      ],
      "text/plain": [
       "     Asunnon tyyppi       Sijainti      Hinta     Koko Rakennus vuosi\n",
       "0          Paritalo        Palokka  307 000 €   102 m²           2016\n",
       "1        Kerrostalo     Vaajakoski   76 000 €    54 m²           1965\n",
       "2          Rivitalo        Palokka  127 000 €    64 m²           1980\n",
       "3        Kerrostalo        Lutakko  209 000 €    44 m²           2008\n",
       "4        Kerrostalo       Keskusta   89 000 €    35 m²           1955\n",
       "...             ...            ...        ...      ...            ...\n",
       "1911     Kerrostalo     Pirttimäki   83 000 €  21,5 m²           2018\n",
       "1912     Kerrostalo   Kivelänranta  167 475 €  43,5 m²           2019\n",
       "1914     Kerrostalo       Keskusta  193 000 €    72 m²           1960\n",
       "1916     Kerrostalo        Varikko   79 000 €  91,5 m²           1984\n",
       "1917       Rivitalo     Korpilahti   49 000 €    33 m²           1983\n",
       "\n",
       "[1185 rows x 5 columns]"
      ]
     },
     "execution_count": 7,
     "metadata": {},
     "output_type": "execute_result"
    }
   ],
   "source": [
    "df"
   ]
  },
  {
   "cell_type": "markdown",
   "metadata": {},
   "source": [
    "#### Price to numerical"
   ]
  },
  {
   "cell_type": "code",
   "execution_count": 8,
   "metadata": {},
   "outputs": [],
   "source": [
    "df['Hinta'] = df['Hinta'].apply(lambda x: x.replace(\"€\", \"\").replace(\" \", \"\").replace(\",\", \".\"))\n"
   ]
  },
  {
   "cell_type": "code",
   "execution_count": 36,
   "metadata": {},
   "outputs": [
    {
     "data": {
      "text/plain": [
       "0       307000.0\n",
       "1        76000.0\n",
       "2       127000.0\n",
       "3       209000.0\n",
       "4        89000.0\n",
       "          ...   \n",
       "1911     83000.0\n",
       "1912    167475.0\n",
       "1914    193000.0\n",
       "1916     79000.0\n",
       "1917     49000.0\n",
       "Name: Hinta, Length: 1185, dtype: float64"
      ]
     },
     "execution_count": 36,
     "metadata": {},
     "output_type": "execute_result"
    }
   ],
   "source": [
    "df['Hinta'].apply(lambda x: float(x))\n"
   ]
  },
  {
   "cell_type": "markdown",
   "metadata": {},
   "source": [
    "#### Size to numerical"
   ]
  },
  {
   "cell_type": "code",
   "execution_count": 37,
   "metadata": {},
   "outputs": [
    {
     "data": {
      "text/html": [
       "<div>\n",
       "<style scoped>\n",
       "    .dataframe tbody tr th:only-of-type {\n",
       "        vertical-align: middle;\n",
       "    }\n",
       "\n",
       "    .dataframe tbody tr th {\n",
       "        vertical-align: top;\n",
       "    }\n",
       "\n",
       "    .dataframe thead th {\n",
       "        text-align: right;\n",
       "    }\n",
       "</style>\n",
       "<table border=\"1\" class=\"dataframe\">\n",
       "  <thead>\n",
       "    <tr style=\"text-align: right;\">\n",
       "      <th></th>\n",
       "      <th>Asunnon tyyppi</th>\n",
       "      <th>Sijainti</th>\n",
       "      <th>Hinta</th>\n",
       "      <th>Koko</th>\n",
       "      <th>Rakennus vuosi</th>\n",
       "    </tr>\n",
       "  </thead>\n",
       "  <tbody>\n",
       "    <tr>\n",
       "      <th>0</th>\n",
       "      <td>Paritalo</td>\n",
       "      <td>Palokka</td>\n",
       "      <td>307000</td>\n",
       "      <td>102</td>\n",
       "      <td>2016</td>\n",
       "    </tr>\n",
       "    <tr>\n",
       "      <th>1</th>\n",
       "      <td>Kerrostalo</td>\n",
       "      <td>Vaajakoski</td>\n",
       "      <td>76000</td>\n",
       "      <td>54</td>\n",
       "      <td>1965</td>\n",
       "    </tr>\n",
       "    <tr>\n",
       "      <th>2</th>\n",
       "      <td>Rivitalo</td>\n",
       "      <td>Palokka</td>\n",
       "      <td>127000</td>\n",
       "      <td>64</td>\n",
       "      <td>1980</td>\n",
       "    </tr>\n",
       "    <tr>\n",
       "      <th>3</th>\n",
       "      <td>Kerrostalo</td>\n",
       "      <td>Lutakko</td>\n",
       "      <td>209000</td>\n",
       "      <td>44</td>\n",
       "      <td>2008</td>\n",
       "    </tr>\n",
       "    <tr>\n",
       "      <th>4</th>\n",
       "      <td>Kerrostalo</td>\n",
       "      <td>Keskusta</td>\n",
       "      <td>89000</td>\n",
       "      <td>35</td>\n",
       "      <td>1955</td>\n",
       "    </tr>\n",
       "    <tr>\n",
       "      <th>...</th>\n",
       "      <td>...</td>\n",
       "      <td>...</td>\n",
       "      <td>...</td>\n",
       "      <td>...</td>\n",
       "      <td>...</td>\n",
       "    </tr>\n",
       "    <tr>\n",
       "      <th>1911</th>\n",
       "      <td>Kerrostalo</td>\n",
       "      <td>Pirttimäki</td>\n",
       "      <td>83000</td>\n",
       "      <td>21.5</td>\n",
       "      <td>2018</td>\n",
       "    </tr>\n",
       "    <tr>\n",
       "      <th>1912</th>\n",
       "      <td>Kerrostalo</td>\n",
       "      <td>Kivelänranta</td>\n",
       "      <td>167475</td>\n",
       "      <td>43.5</td>\n",
       "      <td>2019</td>\n",
       "    </tr>\n",
       "    <tr>\n",
       "      <th>1914</th>\n",
       "      <td>Kerrostalo</td>\n",
       "      <td>Keskusta</td>\n",
       "      <td>193000</td>\n",
       "      <td>72</td>\n",
       "      <td>1960</td>\n",
       "    </tr>\n",
       "    <tr>\n",
       "      <th>1916</th>\n",
       "      <td>Kerrostalo</td>\n",
       "      <td>Varikko</td>\n",
       "      <td>79000</td>\n",
       "      <td>91.5</td>\n",
       "      <td>1984</td>\n",
       "    </tr>\n",
       "    <tr>\n",
       "      <th>1917</th>\n",
       "      <td>Rivitalo</td>\n",
       "      <td>Korpilahti</td>\n",
       "      <td>49000</td>\n",
       "      <td>33</td>\n",
       "      <td>1983</td>\n",
       "    </tr>\n",
       "  </tbody>\n",
       "</table>\n",
       "<p>1185 rows × 5 columns</p>\n",
       "</div>"
      ],
      "text/plain": [
       "     Asunnon tyyppi       Sijainti   Hinta  Koko Rakennus vuosi\n",
       "0          Paritalo        Palokka  307000   102           2016\n",
       "1        Kerrostalo     Vaajakoski   76000    54           1965\n",
       "2          Rivitalo        Palokka  127000    64           1980\n",
       "3        Kerrostalo        Lutakko  209000    44           2008\n",
       "4        Kerrostalo       Keskusta   89000    35           1955\n",
       "...             ...            ...     ...   ...            ...\n",
       "1911     Kerrostalo     Pirttimäki   83000  21.5           2018\n",
       "1912     Kerrostalo   Kivelänranta  167475  43.5           2019\n",
       "1914     Kerrostalo       Keskusta  193000    72           1960\n",
       "1916     Kerrostalo        Varikko   79000  91.5           1984\n",
       "1917       Rivitalo     Korpilahti   49000    33           1983\n",
       "\n",
       "[1185 rows x 5 columns]"
      ]
     },
     "execution_count": 37,
     "metadata": {},
     "output_type": "execute_result"
    }
   ],
   "source": [
    "df['Koko'] = df['Koko'].apply(lambda x: x.replace(\"m²\",\"\").strip().replace(\",\",\".\"))\n",
    "df['Koko'].apply(lambda x: float(x))\n",
    "df"
   ]
  },
  {
   "cell_type": "markdown",
   "metadata": {},
   "source": [
    "#### Construction year to numerical"
   ]
  },
  {
   "cell_type": "code",
   "execution_count": 11,
   "metadata": {},
   "outputs": [],
   "source": [
    "df['Rakennus vuosi'] = df['Rakennus vuosi'].replace(\"-\", -1)\n"
   ]
  },
  {
   "cell_type": "code",
   "execution_count": 43,
   "metadata": {},
   "outputs": [
    {
     "data": {
      "text/plain": [
       "0       2016.0\n",
       "1       1965.0\n",
       "2       1980.0\n",
       "3       2008.0\n",
       "4       1955.0\n",
       "         ...  \n",
       "1911    2018.0\n",
       "1912    2019.0\n",
       "1914    1960.0\n",
       "1916    1984.0\n",
       "1917    1983.0\n",
       "Name: Rakennus vuosi, Length: 1185, dtype: float64"
      ]
     },
     "execution_count": 43,
     "metadata": {},
     "output_type": "execute_result"
    }
   ],
   "source": [
    "df['Rakennus vuosi'].apply(lambda x: float(x))"
   ]
  },
  {
   "cell_type": "code",
   "execution_count": 44,
   "metadata": {},
   "outputs": [],
   "source": [
    "hinta_kohde = pd.pivot_table(df, index = 'Sijainti', values = 'Hinta', aggfunc = 'first')"
   ]
  },
  {
   "cell_type": "markdown",
   "metadata": {},
   "source": [
    "### TODO: Esim. sijaintia vastaava keskiarvo hinnalle"
   ]
  },
  {
   "cell_type": "code",
   "execution_count": 45,
   "metadata": {},
   "outputs": [
    {
     "data": {
      "text/html": [
       "<div>\n",
       "<style scoped>\n",
       "    .dataframe tbody tr th:only-of-type {\n",
       "        vertical-align: middle;\n",
       "    }\n",
       "\n",
       "    .dataframe tbody tr th {\n",
       "        vertical-align: top;\n",
       "    }\n",
       "\n",
       "    .dataframe thead th {\n",
       "        text-align: right;\n",
       "    }\n",
       "</style>\n",
       "<table border=\"1\" class=\"dataframe\">\n",
       "  <thead>\n",
       "    <tr style=\"text-align: right;\">\n",
       "      <th></th>\n",
       "      <th>Hinta</th>\n",
       "    </tr>\n",
       "    <tr>\n",
       "      <th>Sijainti</th>\n",
       "      <th></th>\n",
       "    </tr>\n",
       "  </thead>\n",
       "  <tbody>\n",
       "    <tr>\n",
       "      <th>40100</th>\n",
       "      <td>171000</td>\n",
       "    </tr>\n",
       "    <tr>\n",
       "      <th>Aholaita</th>\n",
       "      <td>69000</td>\n",
       "    </tr>\n",
       "    <tr>\n",
       "      <th>Ainola</th>\n",
       "      <td>270000</td>\n",
       "    </tr>\n",
       "    <tr>\n",
       "      <th>Ainolanranta</th>\n",
       "      <td>349000</td>\n",
       "    </tr>\n",
       "    <tr>\n",
       "      <th>Aittorinne</th>\n",
       "      <td>119000</td>\n",
       "    </tr>\n",
       "    <tr>\n",
       "      <th>Asmalampi</th>\n",
       "      <td>109000</td>\n",
       "    </tr>\n",
       "    <tr>\n",
       "      <th>Haapala</th>\n",
       "      <td>62900</td>\n",
       "    </tr>\n",
       "    <tr>\n",
       "      <th>Haapaniemi</th>\n",
       "      <td>321000</td>\n",
       "    </tr>\n",
       "    <tr>\n",
       "      <th>Halssila</th>\n",
       "      <td>97500</td>\n",
       "    </tr>\n",
       "    <tr>\n",
       "      <th>Halssilanrinne</th>\n",
       "      <td>99000</td>\n",
       "    </tr>\n",
       "    <tr>\n",
       "      <th>Harju</th>\n",
       "      <td>222000</td>\n",
       "    </tr>\n",
       "    <tr>\n",
       "      <th>Haukkala</th>\n",
       "      <td>103000</td>\n",
       "    </tr>\n",
       "    <tr>\n",
       "      <th>Haukkalanranta</th>\n",
       "      <td>215000</td>\n",
       "    </tr>\n",
       "    <tr>\n",
       "      <th>Haukkamäki</th>\n",
       "      <td>14673.4</td>\n",
       "    </tr>\n",
       "    <tr>\n",
       "      <th>Heinälampi</th>\n",
       "      <td>146000</td>\n",
       "    </tr>\n",
       "    <tr>\n",
       "      <th>Heinämäki</th>\n",
       "      <td>163300</td>\n",
       "    </tr>\n",
       "    <tr>\n",
       "      <th>Holsti</th>\n",
       "      <td>219000</td>\n",
       "    </tr>\n",
       "    <tr>\n",
       "      <th>Huhtasuo</th>\n",
       "      <td>98000</td>\n",
       "    </tr>\n",
       "    <tr>\n",
       "      <th>Hupeli</th>\n",
       "      <td>398000</td>\n",
       "    </tr>\n",
       "    <tr>\n",
       "      <th>JYSKÄ</th>\n",
       "      <td>109000</td>\n",
       "    </tr>\n",
       "  </tbody>\n",
       "</table>\n",
       "</div>"
      ],
      "text/plain": [
       "                   Hinta\n",
       "Sijainti                \n",
       " 40100            171000\n",
       " Aholaita          69000\n",
       " Ainola           270000\n",
       " Ainolanranta     349000\n",
       " Aittorinne       119000\n",
       " Asmalampi        109000\n",
       " Haapala           62900\n",
       " Haapaniemi       321000\n",
       " Halssila          97500\n",
       " Halssilanrinne    99000\n",
       " Harju            222000\n",
       " Haukkala         103000\n",
       " Haukkalanranta   215000\n",
       " Haukkamäki      14673.4\n",
       " Heinälampi       146000\n",
       " Heinämäki        163300\n",
       " Holsti           219000\n",
       " Huhtasuo          98000\n",
       " Hupeli           398000\n",
       " JYSKÄ            109000"
      ]
     },
     "execution_count": 45,
     "metadata": {},
     "output_type": "execute_result"
    }
   ],
   "source": [
    "hinta_kohde.head(20)"
   ]
  }
 ],
 "metadata": {
  "kernelspec": {
   "display_name": "Python 3",
   "language": "python",
   "name": "python3"
  },
  "language_info": {
   "codemirror_mode": {
    "name": "ipython",
    "version": 3
   },
   "file_extension": ".py",
   "mimetype": "text/x-python",
   "name": "python",
   "nbconvert_exporter": "python",
   "pygments_lexer": "ipython3",
   "version": "3.8.5"
  }
 },
 "nbformat": 4,
 "nbformat_minor": 4
}
